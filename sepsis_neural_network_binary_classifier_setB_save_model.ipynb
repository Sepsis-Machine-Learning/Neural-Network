{
 "cells": [
  {
   "cell_type": "code",
   "execution_count": 2,
   "metadata": {},
   "outputs": [
    {
     "name": "stderr",
     "output_type": "stream",
     "text": [
      "Using TensorFlow backend.\n"
     ]
    }
   ],
   "source": [
    "import tensorflow as tf\n",
    "from tensorflow import keras\n",
    "import numpy as np # linear algebra\n",
    "import pandas as pd # data processing, CSV file I/O (e.g. pd.read_csv)\n",
    "from keras.models import Sequential\n",
    "from keras.layers import Dense\n",
    "from keras.layers import Dropout\n",
    "from keras.layers import Flatten\n",
    "from sklearn.model_selection import train_test_split\n",
    "import matplotlib.pyplot as plt"
   ]
  },
  {
   "cell_type": "markdown",
   "metadata": {},
   "source": [
    "#### one easy way by using Pandas: (mean normalization)\n",
    "\n",
    "normalized_df=(df-df.mean())/df.std()\n",
    "\n",
    "#### or to use min-max normalization:\n",
    "\n",
    "normalized_df=(df-df.min())/(df.max()-df.min())\n",
    "\n",
    "#### or use my own defined min-max normalization function:"
   ]
  },
  {
   "cell_type": "code",
   "execution_count": 3,
   "metadata": {},
   "outputs": [],
   "source": [
    "def NormalizeData(data):\n",
    "\n",
    "    return (data - np.min(data)) / (np.max(data) - np.min(data))"
   ]
  },
  {
   "cell_type": "markdown",
   "metadata": {},
   "source": [
    "### process input data with pandas \n",
    "\n",
    "* #drop columns which have more than 94% NaN's (or less than 6% values) by index\n",
    "\n",
    "* col no.=7, EtCO2, 1, 0%\n",
    "* col no.=13, SaO2, 4572, 8%\n",
    "* col no.=14, AST, 3020, 5%\n",
    "* col no.=16, Alkalinephos, 2902, 5%\n",
    "* col no.=20, Bilirubin_direct, 224, 0%\n",
    "* col no.=22, Lactate, 3085, 5%\n",
    "* col no.=26, Bilirubin_total, 2581, 4%\n",
    "* col no.=27, TroponinI, 218, 0%\n",
    "* col no.=32, Fibrinogen, 812, 1%\n",
    "\n",
    "0s:38416\n",
    "1s:16090\n",
    "1s/0s ratio  = 41 %\n",
    "\n",
    "#### change HospAdmTime from negative to positive\n",
    "train.HospAdmTime = -1 * train.HospAdmTime\n",
    "#### replace NaN with mean\n",
    "train=train.fillna(train.mean())"
   ]
  },
  {
   "cell_type": "code",
   "execution_count": 32,
   "metadata": {},
   "outputs": [],
   "source": [
    "train = pd.read_csv(\"../data/setB_train.psv\", sep='|')\n",
    "#print(train.shape)\n",
    "#print(train)\n",
    "#drop columns which have more than 94% NaN's by index\n",
    "#cols = [7,14,16,20,22,26,27,32]\n"
   ]
  },
  {
   "cell_type": "code",
   "execution_count": 33,
   "metadata": {},
   "outputs": [],
   "source": [
    "#cols = [7]\n",
    "train.HospAdmTime = -1 * train.HospAdmTime\n",
    "#train=train.drop(train.columns[cols],axis=1)\n",
    "#replace NaN with mean\n",
    "train[np.isnan(train)] = -99\n",
    "#train=train.fillna(train.mean())"
   ]
  },
  {
   "cell_type": "code",
   "execution_count": 34,
   "metadata": {},
   "outputs": [],
   "source": [
    "train=train.values\n",
    "test = pd.read_csv(\"../data/setB_test.psv\", sep='|')\n",
    "#train, test = train_test_split(train, test_size=0.2)\n",
    "#print(train.shape)\n",
    "#print(train)\n",
    "test.HospAdmTime = -1 * test.HospAdmTime\n",
    "#test=test.drop(test.columns[cols],axis=1)\n",
    "#replace NaN with mean\n",
    "test[np.isnan(test)] = -99\n",
    "#test=test.fillna(test.mean())\n",
    "test=test.values\n",
    "\n",
    "#train, test = train_test_split(train, test_size=0.2)\n",
    "#print(train.shape)\n",
    "#print(train)\n"
   ]
  },
  {
   "cell_type": "code",
   "execution_count": 35,
   "metadata": {},
   "outputs": [],
   "source": [
    "x_train_raw = train[:, :-1] # for all but last column\n",
    "n_rows, n_cols = x_train_raw.shape\n",
    "\n",
    "x_test_raw = test[:, :-1]\n",
    "y_train = train[:, -1]  # for last column\n",
    "y_test = test[:, -1]  # for last column"
   ]
  },
  {
   "cell_type": "code",
   "execution_count": 36,
   "metadata": {},
   "outputs": [],
   "source": [
    "# Define the sequential model\n",
    "def create_model(n_cols):\n",
    "    model = keras.Sequential([\n",
    "        keras.layers.Flatten(input_shape=(n_cols,)),\n",
    "    #    keras.layers.Dense(10, activation=tf.nn.relu),\n",
    "        keras.layers.Dense(10, activation=tf.nn.relu),\n",
    "        keras.layers.Dense(1, activation=tf.nn.sigmoid),\n",
    "    ])\n",
    "    keras.optimizers.Adam(lr = 0.001)\n",
    "    model.compile(optimizer='adam',\n",
    "                  loss='binary_crossentropy',\n",
    "                  metrics=['accuracy'])\n",
    "    return model"
   ]
  },
  {
   "cell_type": "code",
   "execution_count": 37,
   "metadata": {},
   "outputs": [
    {
     "name": "stdout",
     "output_type": "stream",
     "text": [
      "_________________________________________________________________\n",
      "Layer (type)                 Output Shape              Param #   \n",
      "=================================================================\n",
      "flatten_4 (Flatten)          (None, 40)                0         \n",
      "_________________________________________________________________\n",
      "dense_8 (Dense)              (None, 10)                410       \n",
      "_________________________________________________________________\n",
      "dense_9 (Dense)              (None, 1)                 11        \n",
      "=================================================================\n",
      "Total params: 421\n",
      "Trainable params: 421\n",
      "Non-trainable params: 0\n",
      "_________________________________________________________________\n"
     ]
    }
   ],
   "source": [
    "\n",
    "# Create a basic model instance\n",
    "model = create_model(n_cols)\n",
    "\n",
    "# Display the model's architecture\n",
    "model.summary()"
   ]
  },
  {
   "cell_type": "code",
   "execution_count": 38,
   "metadata": {},
   "outputs": [],
   "source": [
    "x_train = NormalizeData(x_train_raw)\n",
    "x_test = NormalizeData(x_test_raw)\n",
    "#x_train = x_train_raw\n",
    "#x_test = x_test_raw\n",
    "#print(x_test)\n",
    "#print(y_test)"
   ]
  },
  {
   "cell_type": "code",
   "execution_count": 39,
   "metadata": {},
   "outputs": [
    {
     "name": "stdout",
     "output_type": "stream",
     "text": [
      "Epoch 1/30\n",
      "34296/34296 [==============================] - 1s 23us/step - loss: 0.6372 - acc: 0.7525\n",
      "Epoch 2/30\n",
      "34296/34296 [==============================] - 0s 9us/step - loss: 0.5555 - acc: 0.7664\n",
      "Epoch 3/30\n",
      "34296/34296 [==============================] - 0s 8us/step - loss: 0.5272 - acc: 0.7664\n",
      "Epoch 4/30\n",
      "34296/34296 [==============================] - 0s 9us/step - loss: 0.5113 - acc: 0.7664\n",
      "Epoch 5/30\n",
      "34296/34296 [==============================] - 0s 11us/step - loss: 0.4913 - acc: 0.7664\n",
      "Epoch 6/30\n",
      "34296/34296 [==============================] - 0s 9us/step - loss: 0.4694 - acc: 0.7664\n",
      "Epoch 7/30\n",
      "34296/34296 [==============================] - 0s 9us/step - loss: 0.4483 - acc: 0.7665\n",
      "Epoch 8/30\n",
      "34296/34296 [==============================] - 0s 8us/step - loss: 0.4294 - acc: 0.7672\n",
      "Epoch 9/30\n",
      "34296/34296 [==============================] - 0s 11us/step - loss: 0.4132 - acc: 0.7694\n",
      "Epoch 10/30\n",
      "34296/34296 [==============================] - 0s 8us/step - loss: 0.3997 - acc: 0.7811\n",
      "Epoch 11/30\n",
      "34296/34296 [==============================] - 0s 10us/step - loss: 0.3887 - acc: 0.8084\n",
      "Epoch 12/30\n",
      "34296/34296 [==============================] - 0s 9us/step - loss: 0.3800 - acc: 0.8304\n",
      "Epoch 13/30\n",
      "34296/34296 [==============================] - 0s 8us/step - loss: 0.3727 - acc: 0.8467\n",
      "Epoch 14/30\n",
      "34296/34296 [==============================] - 0s 9us/step - loss: 0.3667 - acc: 0.8598\n",
      "Epoch 15/30\n",
      "34296/34296 [==============================] - 0s 8us/step - loss: 0.3612 - acc: 0.8746\n",
      "Epoch 16/30\n",
      "34296/34296 [==============================] - 0s 9us/step - loss: 0.3563 - acc: 0.8844\n",
      "Epoch 17/30\n",
      "34296/34296 [==============================] - 0s 8us/step - loss: 0.3521 - acc: 0.8909\n",
      "Epoch 18/30\n",
      "34296/34296 [==============================] - 0s 9us/step - loss: 0.3483 - acc: 0.8914\n",
      "Epoch 19/30\n",
      "34296/34296 [==============================] - 0s 10us/step - loss: 0.3445 - acc: 0.8944\n",
      "Epoch 20/30\n",
      "34296/34296 [==============================] - 0s 11us/step - loss: 0.3409 - acc: 0.8953\n",
      "Epoch 21/30\n",
      "34296/34296 [==============================] - 0s 10us/step - loss: 0.3374 - acc: 0.8944\n",
      "Epoch 22/30\n",
      "34296/34296 [==============================] - 0s 12us/step - loss: 0.3341 - acc: 0.8943\n",
      "Epoch 23/30\n",
      "34296/34296 [==============================] - 0s 9us/step - loss: 0.3309 - acc: 0.8949\n",
      "Epoch 24/30\n",
      "34296/34296 [==============================] - 0s 10us/step - loss: 0.3280 - acc: 0.8938\n",
      "Epoch 25/30\n",
      "34296/34296 [==============================] - 0s 10us/step - loss: 0.3250 - acc: 0.8947\n",
      "Epoch 26/30\n",
      "34296/34296 [==============================] - 0s 9us/step - loss: 0.3222 - acc: 0.8944\n",
      "Epoch 27/30\n",
      "34296/34296 [==============================] - 0s 9us/step - loss: 0.3196 - acc: 0.8937\n",
      "Epoch 28/30\n",
      "34296/34296 [==============================] - 0s 8us/step - loss: 0.3169 - acc: 0.8953\n",
      "Epoch 29/30\n",
      "34296/34296 [==============================] - 0s 9us/step - loss: 0.3144 - acc: 0.8949\n",
      "Epoch 30/30\n",
      "34296/34296 [==============================] - 0s 9us/step - loss: 0.3119 - acc: 0.8954\n",
      "8522/8522 [==============================] - 0s 41us/step\n",
      "0.30566088799662616 0.8909880309786435\n"
     ]
    }
   ],
   "source": [
    "model.fit(x_train, y_train, epochs=30, batch_size=256)\n",
    "classifications = model.predict(x_test)\n",
    "#print(classifications)\n",
    "test_loss, test_acc = model.evaluate(x_test, y_test)\n",
    "print(test_loss, test_acc)"
   ]
  },
  {
   "cell_type": "code",
   "execution_count": 45,
   "metadata": {},
   "outputs": [
    {
     "name": "stdout",
     "output_type": "stream",
     "text": [
      "WARNING:tensorflow:This model was compiled with a Keras optimizer (<tensorflow.python.keras.optimizers.Adam object at 0x1255914a8>) but is being saved in TensorFlow format with `save_weights`. The model's weights will be saved, but unlike with TensorFlow optimizers in the TensorFlow format the optimizer's state will not be saved.\n",
      "\n",
      "Consider using a TensorFlow optimizer from `tf.train`.\n"
     ]
    }
   ],
   "source": [
    "model.save_weights('./weights/my_weights')"
   ]
  },
  {
   "cell_type": "code",
   "execution_count": 41,
   "metadata": {},
   "outputs": [],
   "source": [
    "# predict probabilities for test set\n",
    "y_predict_probs = model.predict(x_test, verbose=0)\n",
    "# predict crisp classes for test set\n",
    "y_predict_classes = model.predict_classes(x_test, verbose=0)"
   ]
  },
  {
   "cell_type": "code",
   "execution_count": 42,
   "metadata": {},
   "outputs": [],
   "source": [
    "#np.set_printoptions(threshold=np.inf)\n",
    "from sklearn.metrics import accuracy_score\n",
    "from sklearn.metrics import precision_score\n",
    "from sklearn.metrics import recall_score\n",
    "from sklearn.metrics import f1_score\n",
    "from sklearn.metrics import cohen_kappa_score\n",
    "from sklearn.metrics import roc_auc_score\n",
    "from sklearn.metrics import confusion_matrix"
   ]
  },
  {
   "cell_type": "code",
   "execution_count": 43,
   "metadata": {},
   "outputs": [
    {
     "name": "stdout",
     "output_type": "stream",
     "text": [
      "Accuracy: 0.890988\n",
      "Precision: 0.780420\n",
      "Recall: 0.726197\n",
      "F1 score: 0.752333\n",
      "Cohens kappa: 0.682562\n",
      "ROC AUC: 0.912902\n",
      "Confusion_matrix:\n",
      "                    TrueP FalseN\n",
      "                    FalseP TrueN\n",
      "[[1411  532]\n",
      " [ 397 6182]]\n"
     ]
    }
   ],
   "source": [
    "# reduce to 1d array\n",
    "y_probs = y_predict_probs[:, 0]\n",
    "y_classes = y_predict_classes[:, 0]\n",
    "# accuracy: (tp + tn) / (p + n)\n",
    "accuracy = accuracy_score(y_test, y_classes)\n",
    "print('Accuracy: %f' % accuracy)\n",
    "# precision tp / (tp + fp)\n",
    "precision = precision_score(y_test, y_classes)\n",
    "print('Precision: %f' % precision)\n",
    "# recall: tp / (tp + fn)\n",
    "recall = recall_score(y_test, y_classes)\n",
    "print('Recall: %f' % recall)\n",
    "# f1: 2 tp / (2 tp + fp + fn)\n",
    "f1 = f1_score(y_test, y_classes)\n",
    "print('F1 score: %f' % f1)\n",
    "# kappa\n",
    "kappa = cohen_kappa_score(y_test, y_classes)\n",
    "print('Cohens kappa: %f' % kappa)\n",
    "# ROC AUC\n",
    "auc = roc_auc_score(y_test, y_probs)\n",
    "print('ROC AUC: %f' % auc)\n",
    "# confusion matrix\n",
    "print('Confusion_matrix:')\n",
    "print('                    TrueP FalseN')\n",
    "print('                    FalseP TrueN')\n",
    "#labels must be specified as [1,0]. Without it, confusion_matrix\n",
    "#will report negative on the 1st row then positives on the 2nd row\n",
    "#note: predictions are in columns and actual values in rows !!\n",
    "matrix = confusion_matrix(y_test, y_classes, labels=[1, 0])\n",
    "print(matrix)"
   ]
  },
  {
   "cell_type": "code",
   "execution_count": 44,
   "metadata": {},
   "outputs": [
    {
     "data": {
      "image/png": "[encoded data removed]",
      "text/plain": [
       "<Figure size 432x288 with 1 Axes>"
      ]
     },
     "metadata": {
      "needs_background": "light"
     },
     "output_type": "display_data"
    }
   ],
   "source": [
    "import sklearn.metrics as metrics\n",
    "fpr, tpr, threshold = metrics.roc_curve(y_test, y_probs)\n",
    "roc_auc = metrics.auc(fpr, tpr)\n",
    "# plot ROC\n",
    "import matplotlib.pyplot as plt\n",
    "plt.title('Receiver Operating Characteristic')\n",
    "plt.plot(fpr, tpr, 'm', label = 'AUC = %0.2f' % roc_auc)\n",
    "plt.legend(loc = 'lower right')\n",
    "plt.plot([0, 1], [0, 1],'b--')\n",
    "plt.ylabel('True Positive Rate')\n",
    "plt.xlabel('False Positive Rate')\n",
    "plt.show()\n"
   ]
  },
  {
   "cell_type": "code",
   "execution_count": null,
   "metadata": {},
   "outputs": [],
   "source": []
  }
 ],
 "metadata": {
  "kernelspec": {
   "display_name": "Python 3",
   "language": "python",
   "name": "python3"
  },
  "language_info": {
   "codemirror_mode": {
    "name": "ipython",
    "version": 3
   },
   "file_extension": ".py",
   "mimetype": "text/x-python",
   "name": "python",
   "nbconvert_exporter": "python",
   "pygments_lexer": "ipython3",
   "version": "3.6.10"
  }
 },
 "nbformat": 4,
 "nbformat_minor": 2
}
