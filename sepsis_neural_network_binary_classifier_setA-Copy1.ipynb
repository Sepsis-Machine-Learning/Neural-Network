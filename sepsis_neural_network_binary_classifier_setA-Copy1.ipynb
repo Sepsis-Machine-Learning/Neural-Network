{
 "cells": [
  {
   "cell_type": "code",
   "execution_count": 71,
   "metadata": {},
   "outputs": [],
   "source": [
    "import tensorflow as tf\n",
    "from tensorflow import keras\n",
    "import numpy as np # linear algebra\n",
    "import pandas as pd # data processing, CSV file I/O (e.g. pd.read_csv)\n",
    "from keras.models import Sequential\n",
    "from keras.layers import Dense\n",
    "from keras.layers import Dropout\n",
    "from keras.layers import Flatten\n",
    "from sklearn.model_selection import train_test_split\n",
    "import matplotlib.pyplot as plt"
   ]
  },
  {
   "cell_type": "markdown",
   "metadata": {},
   "source": [
    "#### one easy way by using Pandas: (mean normalization)\n",
    "\n",
    "normalized_df=(df-df.mean())/df.std()\n",
    "\n",
    "#### or to use min-max normalization:\n",
    "\n",
    "normalized_df=(df-df.min())/(df.max()-df.min())\n",
    "\n",
    "#### or use my own defined min-max normalization function:"
   ]
  },
  {
   "cell_type": "code",
   "execution_count": 72,
   "metadata": {},
   "outputs": [],
   "source": [
    "def NormalizeData(data):\n",
    "\n",
    "    return (data - np.min(data)) / (np.max(data) - np.min(data))"
   ]
  },
  {
   "cell_type": "markdown",
   "metadata": {},
   "source": [
    "### process input data with pandas \n",
    "\n",
    "* #drop columns which have more than 94% NaN's (or less than 6% values) by index\n",
    "\n",
    "* col no.=7, EtCO2, 1, 0%\n",
    "* col no.=13, SaO2, 4572, 8%\n",
    "* col no.=14, AST, 3020, 5%\n",
    "* col no.=16, Alkalinephos, 2902, 5%\n",
    "* col no.=20, Bilirubin_direct, 224, 0%\n",
    "* col no.=22, Lactate, 3085, 5%\n",
    "* col no.=26, Bilirubin_total, 2581, 4%\n",
    "* col no.=27, TroponinI, 218, 0%\n",
    "* col no.=32, Fibrinogen, 812, 1%\n",
    "\n",
    "0s:38416\n",
    "1s:16090\n",
    "1s/0s ratio  = 41 %\n",
    "\n",
    "#### change HospAdmTime from negative to positive\n",
    "train.HospAdmTime = -1 * train.HospAdmTime\n",
    "#### replace NaN with mean\n",
    "train=train.fillna(train.mean())"
   ]
  },
  {
   "cell_type": "code",
   "execution_count": 109,
   "metadata": {},
   "outputs": [
    {
     "name": "stdout",
     "output_type": "stream",
     "text": [
      "(43646, 41)\n"
     ]
    }
   ],
   "source": [
    "train = pd.read_csv(\"../data/setA_train.psv\", sep=',')\n",
    "print(train.shape)\n",
    "#print(train)\n",
    "#drop columns which have more than 94% NaN's by index\n",
    "#cols = [7,14,16,20,22,26,27,32]\n"
   ]
  },
  {
   "cell_type": "code",
   "execution_count": 110,
   "metadata": {},
   "outputs": [],
   "source": [
    "cols = [7]\n",
    "train.HospAdmTime = -1 * train.HospAdmTime\n",
    "train=train.drop(train.columns[cols],axis=1)\n",
    "#replace NaN with mean\n",
    "train[np.isnan(train)] = -99\n",
    "#train=train.fillna(train.mean())"
   ]
  },
  {
   "cell_type": "code",
   "execution_count": 111,
   "metadata": {},
   "outputs": [],
   "source": [
    "train=train.values\n",
    "test = pd.read_csv(\"../data/setA_test.psv\", sep='|')\n",
    "#train, test = train_test_split(train, test_size=0.2)\n",
    "#print(train.shape)\n",
    "#print(train)\n",
    "test.HospAdmTime = -1 * test.HospAdmTime\n",
    "test=test.drop(test.columns[cols],axis=1)\n",
    "#replace NaN with mean\n",
    "test[np.isnan(test)] = -99\n",
    "#test=test.fillna(test.mean())\n",
    "test=test.values\n",
    "\n",
    "#train, test = train_test_split(train, test_size=0.2)\n",
    "#print(train.shape)\n",
    "#print(train)\n"
   ]
  },
  {
   "cell_type": "code",
   "execution_count": 112,
   "metadata": {},
   "outputs": [],
   "source": [
    "x_train_raw = train[:, :-1] # for all but last column\n",
    "n_rows, n_cols = x_train_raw.shape\n",
    " \n",
    "x_test_raw = test[:, :-1]\n",
    "y_train = train[:, -1]  # for last column\n",
    "y_test = test[:, -1]  # for last column"
   ]
  },
  {
   "cell_type": "code",
   "execution_count": 113,
   "metadata": {},
   "outputs": [],
   "source": [
    "model = keras.Sequential([\n",
    "    keras.layers.Flatten(input_shape=(n_cols,)),\n",
    "#    keras.layers.Dense(10, activation=tf.nn.relu),\n",
    "    keras.layers.Dense(5, activation=tf.nn.relu),\n",
    "    keras.layers.Dense(1, activation=tf.nn.sigmoid),\n",
    "])\n",
    "keras.optimizers.Adam(lr = 0.001)\n",
    "model.compile(optimizer='adam',\n",
    "              loss='binary_crossentropy',\n",
    "              metrics=['accuracy'])"
   ]
  },
  {
   "cell_type": "code",
   "execution_count": 114,
   "metadata": {},
   "outputs": [
    {
     "name": "stdout",
     "output_type": "stream",
     "text": [
      "[[0.02522051 0.02673649 0.         ... 0.         0.01364802 0.01998346]\n",
      " [0.02742558 0.02556505 0.         ... 0.         0.01364802 0.02039691]\n",
      " [0.02852811 0.02687431 0.         ... 0.01364388 0.01365077 0.01943219]\n",
      " ...\n",
      " [0.03293826 0.02701213 0.         ... 0.         0.01364802 0.01819184]\n",
      " [0.03018192 0.02687431 0.         ... 0.         0.01364802 0.01832966]\n",
      " [0.02949283 0.02673649 0.         ... 0.         0.01364802 0.01846748]]\n",
      "[0. 0. 0. ... 1. 1. 1.]\n"
     ]
    }
   ],
   "source": [
    "x_train = NormalizeData(x_train_raw)\n",
    "x_test = NormalizeData(x_test_raw)\n",
    "#x_train = x_train_raw\n",
    "#x_test = x_test_raw\n",
    "print(x_test)\n",
    "print(y_test)"
   ]
  },
  {
   "cell_type": "code",
   "execution_count": 115,
   "metadata": {},
   "outputs": [
    {
     "name": "stdout",
     "output_type": "stream",
     "text": [
      "Epoch 1/50\n",
      "43646/43646 [==============================] - 4s 87us/step - loss: 0.5909 - acc: 0.7032\n",
      "Epoch 2/50\n",
      "43646/43646 [==============================] - 3s 57us/step - loss: 0.5366 - acc: 0.7032\n",
      "Epoch 3/50\n",
      "43646/43646 [==============================] - 3s 58us/step - loss: 0.5131 - acc: 0.7115\n",
      "Epoch 4/50\n",
      "43646/43646 [==============================] - 3s 66us/step - loss: 0.5040 - acc: 0.7494\n",
      "Epoch 5/50\n",
      "43646/43646 [==============================] - 3s 71us/step - loss: 0.4964 - acc: 0.7787\n",
      "Epoch 6/50\n",
      "43646/43646 [==============================] - 2s 54us/step - loss: 0.4892 - acc: 0.7935\n",
      "Epoch 7/50\n",
      "43646/43646 [==============================] - 2s 55us/step - loss: 0.4820 - acc: 0.8051\n",
      "Epoch 8/50\n",
      "43646/43646 [==============================] - 2s 54us/step - loss: 0.4750 - acc: 0.8136\n",
      "Epoch 9/50\n",
      "43646/43646 [==============================] - 2s 55us/step - loss: 0.4687 - acc: 0.8193\n",
      "Epoch 10/50\n",
      "43646/43646 [==============================] - 2s 55us/step - loss: 0.4628 - acc: 0.8236\n",
      "Epoch 11/50\n",
      "43646/43646 [==============================] - 3s 75us/step - loss: 0.4577 - acc: 0.8256\n",
      "Epoch 12/50\n",
      "43646/43646 [==============================] - 2s 54us/step - loss: 0.4533 - acc: 0.8283\n",
      "Epoch 13/50\n",
      "43646/43646 [==============================] - 4s 82us/step - loss: 0.4493 - acc: 0.8302\n",
      "Epoch 14/50\n",
      "43646/43646 [==============================] - 3s 74us/step - loss: 0.4460 - acc: 0.8327\n",
      "Epoch 15/50\n",
      "43646/43646 [==============================] - 3s 66us/step - loss: 0.4432 - acc: 0.8336\n",
      "Epoch 16/50\n",
      "43646/43646 [==============================] - 2s 55us/step - loss: 0.4408 - acc: 0.8360\n",
      "Epoch 17/50\n",
      "43646/43646 [==============================] - 2s 56us/step - loss: 0.4388 - acc: 0.8364\n",
      "Epoch 18/50\n",
      "43646/43646 [==============================] - 3s 62us/step - loss: 0.4371 - acc: 0.8382\n",
      "Epoch 19/50\n",
      "43646/43646 [==============================] - 3s 80us/step - loss: 0.4356 - acc: 0.8386\n",
      "Epoch 20/50\n",
      "43646/43646 [==============================] - 3s 59us/step - loss: 0.4344 - acc: 0.8393\n",
      "Epoch 21/50\n",
      "43646/43646 [==============================] - 3s 58us/step - loss: 0.4332 - acc: 0.8398\n",
      "Epoch 22/50\n",
      "43646/43646 [==============================] - 2s 57us/step - loss: 0.4320 - acc: 0.8410\n",
      "Epoch 23/50\n",
      "43646/43646 [==============================] - 3s 62us/step - loss: 0.4311 - acc: 0.8417\n",
      "Epoch 24/50\n",
      "43646/43646 [==============================] - 4s 81us/step - loss: 0.4300 - acc: 0.8411\n",
      "Epoch 25/50\n",
      "43646/43646 [==============================] - 2s 55us/step - loss: 0.4287 - acc: 0.8418\n",
      "Epoch 26/50\n",
      "43646/43646 [==============================] - 2s 55us/step - loss: 0.4275 - acc: 0.8417\n",
      "Epoch 27/50\n",
      "43646/43646 [==============================] - 2s 56us/step - loss: 0.4259 - acc: 0.8422\n",
      "Epoch 28/50\n",
      "43646/43646 [==============================] - 3s 57us/step - loss: 0.4238 - acc: 0.8440\n",
      "Epoch 29/50\n",
      "43646/43646 [==============================] - 3s 58us/step - loss: 0.4215 - acc: 0.8452\n",
      "Epoch 30/50\n",
      "43646/43646 [==============================] - 2s 56us/step - loss: 0.4192 - acc: 0.8465\n",
      "Epoch 31/50\n",
      "43646/43646 [==============================] - 3s 77us/step - loss: 0.4172 - acc: 0.8482\n",
      "Epoch 32/50\n",
      "43646/43646 [==============================] - 2s 55us/step - loss: 0.4151 - acc: 0.8493\n",
      "Epoch 33/50\n",
      "43646/43646 [==============================] - 4s 91us/step - loss: 0.4130 - acc: 0.8511\n",
      "Epoch 34/50\n",
      "43646/43646 [==============================] - 3s 61us/step - loss: 0.4110 - acc: 0.8506\n",
      "Epoch 35/50\n",
      "43646/43646 [==============================] - 2s 54us/step - loss: 0.4094 - acc: 0.8526\n",
      "Epoch 36/50\n",
      "43646/43646 [==============================] - 2s 51us/step - loss: 0.4076 - acc: 0.8534\n",
      "Epoch 37/50\n",
      "43646/43646 [==============================] - 2s 52us/step - loss: 0.4059 - acc: 0.8542\n",
      "Epoch 38/50\n",
      "43646/43646 [==============================] - 2s 51us/step - loss: 0.4044 - acc: 0.8553\n",
      "Epoch 39/50\n",
      "43646/43646 [==============================] - 2s 56us/step - loss: 0.4030 - acc: 0.8561\n",
      "Epoch 40/50\n",
      "43646/43646 [==============================] - 2s 56us/step - loss: 0.4017 - acc: 0.8567\n",
      "Epoch 41/50\n",
      "43646/43646 [==============================] - 2s 51us/step - loss: 0.4005 - acc: 0.8569\n",
      "Epoch 42/50\n",
      "43646/43646 [==============================] - 3s 59us/step - loss: 0.3994 - acc: 0.8584\n",
      "Epoch 43/50\n",
      "43646/43646 [==============================] - 3s 68us/step - loss: 0.3982 - acc: 0.8585\n",
      "Epoch 44/50\n",
      "43646/43646 [==============================] - 3s 65us/step - loss: 0.3974 - acc: 0.8590\n",
      "Epoch 45/50\n",
      "43646/43646 [==============================] - 2s 52us/step - loss: 0.3961 - acc: 0.8599\n",
      "Epoch 46/50\n",
      "43646/43646 [==============================] - 2s 52us/step - loss: 0.3950 - acc: 0.8603\n",
      "Epoch 47/50\n",
      "43646/43646 [==============================] - 2s 52us/step - loss: 0.3940 - acc: 0.8604\n",
      "Epoch 48/50\n",
      "43646/43646 [==============================] - 2s 53us/step - loss: 0.3930 - acc: 0.8605\n",
      "Epoch 49/50\n",
      "43646/43646 [==============================] - 2s 51us/step - loss: 0.3921 - acc: 0.8606\n",
      "Epoch 50/50\n",
      "43646/43646 [==============================] - 2s 55us/step - loss: 0.3913 - acc: 0.8612\n",
      "[[0.20604606]\n",
      " [0.18160483]\n",
      " [0.33886212]\n",
      " ...\n",
      " [0.8286456 ]\n",
      " [0.82117534]\n",
      " [0.65707386]]\n",
      "11074/11074 [==============================] - 0s 37us/step\n",
      "0.39784181781660805 0.8638251760881344\n"
     ]
    }
   ],
   "source": [
    "model.fit(x_train, y_train, epochs=50)\n",
    "classifications = model.predict(x_test)\n",
    "print(classifications)\n",
    "test_loss, test_acc = model.evaluate(x_test, y_test)\n",
    "print(test_loss, test_acc)"
   ]
  },
  {
   "cell_type": "code",
   "execution_count": 116,
   "metadata": {},
   "outputs": [],
   "source": [
    "# predict probabilities for test set\n",
    "y_predict_probs = model.predict(x_test, verbose=0)\n",
    "# predict crisp classes for test set\n",
    "y_predict_classes = model.predict_classes(x_test, verbose=0)"
   ]
  },
  {
   "cell_type": "code",
   "execution_count": 117,
   "metadata": {},
   "outputs": [],
   "source": [
    "#np.set_printoptions(threshold=np.inf)\n",
    "from sklearn.metrics import accuracy_score\n",
    "from sklearn.metrics import precision_score\n",
    "from sklearn.metrics import recall_score\n",
    "from sklearn.metrics import f1_score\n",
    "from sklearn.metrics import cohen_kappa_score\n",
    "from sklearn.metrics import roc_auc_score\n",
    "from sklearn.metrics import confusion_matrix"
   ]
  },
  {
   "cell_type": "markdown",
   "metadata": {},
   "source": []
  },
  {
   "cell_type": "code",
   "execution_count": 118,
   "metadata": {},
   "outputs": [
    {
     "name": "stdout",
     "output_type": "stream",
     "text": [
      "Accuracy: 0.863825\n",
      "Precision: 0.872573\n",
      "Recall: 0.643881\n",
      "F1 score: 0.740982\n",
      "Cohens kappa: 0.651441\n",
      "ROC AUC: 0.874408\n",
      "Confusion_matrix:\n",
      "                    TrueP FalseN\n",
      "                    FalseP TrueN\n",
      "[[2157 1193]\n",
      " [ 315 7409]]\n"
     ]
    }
   ],
   "source": [
    "# reduce to 1d array\n",
    "y_probs = y_predict_probs[:, 0]\n",
    "y_classes = y_predict_classes[:, 0]\n",
    "# accuracy: (tp + tn) / (p + n)\n",
    "accuracy = accuracy_score(y_test, y_classes)\n",
    "print('Accuracy: %f' % accuracy)\n",
    "# precision tp / (tp + fp)\n",
    "precision = precision_score(y_test, y_classes)\n",
    "print('Precision: %f' % precision)\n",
    "# recall: tp / (tp + fn)\n",
    "recall = recall_score(y_test, y_classes)\n",
    "print('Recall: %f' % recall)\n",
    "# f1: 2 tp / (2 tp + fp + fn)\n",
    "f1 = f1_score(y_test, y_classes)\n",
    "print('F1 score: %f' % f1)\n",
    "# kappa\n",
    "kappa = cohen_kappa_score(y_test, y_classes)\n",
    "print('Cohens kappa: %f' % kappa)\n",
    "# ROC AUC\n",
    "auc = roc_auc_score(y_test, y_probs)\n",
    "print('ROC AUC: %f' % auc)\n",
    "# confusion matrix\n",
    "print('Confusion_matrix:')\n",
    "print('                    TrueP FalseN')\n",
    "print('                    FalseP TrueN')\n",
    "#labels must be specified as [1,0]. Without it, confusion_matrix\n",
    "#will report negative on the 1st row then positives on the 2nd row\n",
    "#note: predictions are in columns and actual values in rows !!\n",
    "matrix = confusion_matrix(y_test, y_classes, labels=[1, 0])\n",
    "print(matrix)"
   ]
  },
  {
   "cell_type": "code",
   "execution_count": 119,
   "metadata": {},
   "outputs": [
    {
     "data": {
      "image/png": "[encoded data removed]",
      "text/plain": [
       "<Figure size 432x288 with 1 Axes>"
      ]
     },
     "metadata": {
      "needs_background": "light"
     },
     "output_type": "display_data"
    }
   ],
   "source": [
    "import sklearn.metrics as metrics\n",
    "fpr, tpr, threshold = metrics.roc_curve(y_test, y_probs)\n",
    "roc_auc = metrics.auc(fpr, tpr)\n",
    "# plot ROC\n",
    "import matplotlib.pyplot as plt\n",
    "plt.title('Receiver Operating Characteristic')\n",
    "plt.plot(fpr, tpr, 'm', label = 'AUC = %0.2f' % roc_auc)\n",
    "plt.legend(loc = 'lower right')\n",
    "plt.plot([0, 1], [0, 1],'b--')\n",
    "plt.ylabel('True Positive Rate')\n",
    "plt.xlabel('False Positive Rate')\n",
    "plt.show()\n"
   ]
  },
  {
   "cell_type": "code",
   "execution_count": null,
   "metadata": {},
   "outputs": [],
   "source": []
  }
 ],
 "metadata": {
  "kernelspec": {
   "display_name": "Python 3",
   "language": "python",
   "name": "python3"
  },
  "language_info": {
   "codemirror_mode": {
    "name": "ipython",
    "version": 3
   },
   "file_extension": ".py",
   "mimetype": "text/x-python",
   "name": "python",
   "nbconvert_exporter": "python",
   "pygments_lexer": "ipython3",
   "version": "3.6.10"
  }
 },
 "nbformat": 4,
 "nbformat_minor": 2
}
