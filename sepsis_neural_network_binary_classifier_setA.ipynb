{
 "cells": [
  {
   "cell_type": "code",
   "execution_count": 8,
   "metadata": {},
   "outputs": [
    {
     "name": "stdout",
     "output_type": "stream",
     "text": [
      "1.12.0\n"
     ]
    }
   ],
   "source": [
    "import tensorflow as tf\n",
    "from tensorflow import keras\n",
    "import numpy as np # linear algebra\n",
    "import pandas as pd # data processing, CSV file I/O (e.g. pd.read_csv)\n",
    "from keras.models import Sequential\n",
    "from keras.layers import Dense\n",
    "from keras.layers import Dropout\n",
    "from keras.layers import Flatten\n",
    "from sklearn.model_selection import train_test_split\n",
    "import matplotlib.pyplot as plt\n",
    "\n",
    "print(tf.__version__)"
   ]
  },
  {
   "cell_type": "markdown",
   "metadata": {},
   "source": [
    "#### one easy way by using Pandas: (mean normalization)\n",
    "\n",
    "normalized_df=(df-df.mean())/df.std()\n",
    "\n",
    "#### or to use min-max normalization:\n",
    "\n",
    "normalized_df=(df-df.min())/(df.max()-df.min())\n",
    "\n",
    "#### or use my own defined min-max normalization function:"
   ]
  },
  {
   "cell_type": "code",
   "execution_count": 9,
   "metadata": {},
   "outputs": [],
   "source": [
    "def NormalizeData(data):\n",
    "\n",
    "    return (data - np.min(data)) / (np.max(data) - np.min(data))"
   ]
  },
  {
   "cell_type": "markdown",
   "metadata": {},
   "source": [
    "### process input data with pandas \n",
    "\n",
    "* #drop columns which have more than 94% NaN's (or less than 6% values) by index\n",
    "\n",
    "* col no.=7, EtCO2, 1, 0%\n",
    "* col no.=13, SaO2, 4572, 8%\n",
    "* col no.=14, AST, 3020, 5%\n",
    "* col no.=16, Alkalinephos, 2902, 5%\n",
    "* col no.=20, Bilirubin_direct, 224, 0%\n",
    "* col no.=22, Lactate, 3085, 5%\n",
    "* col no.=26, Bilirubin_total, 2581, 4%\n",
    "* col no.=27, TroponinI, 218, 0%\n",
    "* col no.=32, Fibrinogen, 812, 1%\n",
    "\n",
    "0s:38416\n",
    "1s:16090\n",
    "1s/0s ratio  = 41 %\n",
    "\n",
    "#### change HospAdmTime from negative to positive\n",
    "train.HospAdmTime = -1 * train.HospAdmTime\n",
    "#### replace NaN with mean\n",
    "train=train.fillna(train.mean())"
   ]
  },
  {
   "cell_type": "code",
   "execution_count": 10,
   "metadata": {},
   "outputs": [
    {
     "name": "stdout",
     "output_type": "stream",
     "text": [
      "(43646, 41)\n"
     ]
    }
   ],
   "source": [
    "train = pd.read_csv(\"../data/setA_train.psv\", sep='|')\n",
    "print(train.shape)\n",
    "#print(train)\n",
    "#drop columns which have more than 94% NaN's by index\n",
    "#cols = [7,14,16,20,22,26,27,32]\n"
   ]
  },
  {
   "cell_type": "code",
   "execution_count": 11,
   "metadata": {},
   "outputs": [],
   "source": [
    "cols = [7]\n",
    "train.HospAdmTime = -1 * train.HospAdmTime\n",
    "train=train.drop(train.columns[cols],axis=1)\n",
    "#replace NaN with mean\n",
    "#train[np.isnan(train)] = -99\n",
    "#replace NaN with mean\n",
    "#train[np.isnan(train)] = -99\n",
    "train.fillna(-99, inplace=True)\n",
    "#train.fillna(train.mean(),inplace=True)\n",
    "#train.fillna(train.median(),inplace=True)\n",
    "#for back-fill\n",
    "#train.fillna(method='bfill',inplace=True)\n",
    "#for forward-fill\n",
    "#train.fillna(method='ffill',inplace=True)\n",
    "#train=train.fillna(train.mean())"
   ]
  },
  {
   "cell_type": "code",
   "execution_count": 12,
   "metadata": {},
   "outputs": [],
   "source": [
    "train=train.values\n",
    "test = pd.read_csv(\"../data/setA_test.psv\", sep='|')\n",
    "#train, test = train_test_split(train, test_size=0.2)\n",
    "#print(train.shape)\n",
    "#print(train)\n",
    "test.HospAdmTime = -1 * test.HospAdmTime\n",
    "test=test.drop(test.columns[cols],axis=1)\n",
    "#replace NaN with mean\n",
    "test[np.isnan(test)] = -99\n",
    "#test=test.fillna(test.mean())\n",
    "test=test.values\n",
    "\n",
    "#train, test = train_test_split(train, test_size=0.2)\n",
    "#print(train.shape)\n",
    "#print(train)\n"
   ]
  },
  {
   "cell_type": "code",
   "execution_count": 13,
   "metadata": {},
   "outputs": [],
   "source": [
    "x_train_raw = train[:, :-1] # for all but last column\n",
    "n_rows, n_cols = x_train_raw.shape\n",
    " \n",
    "x_test_raw = test[:, :-1]\n",
    "y_train = train[:, -1]  # for last column\n",
    "y_test = test[:, -1]  # for last column"
   ]
  },
  {
   "cell_type": "code",
   "execution_count": 28,
   "metadata": {},
   "outputs": [],
   "source": [
    "model = keras.Sequential([\n",
    "    keras.layers.Flatten(input_shape=(n_cols,)),\n",
    " #   keras.layers.Dense(40, activation=tf.nn.relu),\n",
    "    keras.layers.Dense(10, activation=tf.nn.relu),\n",
    " #   keras.layers.Dense(3, activation=tf.nn.relu),\n",
    "    keras.layers.Dense(1, activation=tf.nn.sigmoid),\n",
    " #   keras.layers.Dropout(0.2),\n",
    "])\n",
    "keras.optimizers.Adam(lr = 0.001)\n",
    "model.compile(optimizer='adam',\n",
    "              loss='binary_crossentropy',\n",
    "              metrics=['accuracy'])"
   ]
  },
  {
   "cell_type": "code",
   "execution_count": 29,
   "metadata": {},
   "outputs": [
    {
     "name": "stdout",
     "output_type": "stream",
     "text": [
      "[[0.02522051 0.02673649 0.         ... 0.         0.01364802 0.01998346]\n",
      " [0.02742558 0.02556505 0.         ... 0.         0.01364802 0.02039691]\n",
      " [0.02852811 0.02687431 0.         ... 0.01364388 0.01365077 0.01943219]\n",
      " ...\n",
      " [0.03293826 0.02701213 0.         ... 0.         0.01364802 0.01819184]\n",
      " [0.03018192 0.02687431 0.         ... 0.         0.01364802 0.01832966]\n",
      " [0.02949283 0.02673649 0.         ... 0.         0.01364802 0.01846748]]\n",
      "[0. 0. 0. ... 1. 1. 1.]\n"
     ]
    }
   ],
   "source": [
    "x_train = NormalizeData(x_train_raw)\n",
    "x_test = NormalizeData(x_test_raw)\n",
    "#x_train = x_train_raw\n",
    "#x_test = x_test_raw\n",
    "print(x_test)\n",
    "print(y_test)"
   ]
  },
  {
   "cell_type": "code",
   "execution_count": 30,
   "metadata": {},
   "outputs": [
    {
     "name": "stdout",
     "output_type": "stream",
     "text": [
      "Epoch 1/50\n",
      "43646/43646 [==============================] - 3s 72us/step - loss: 0.6174 - acc: 0.7020\n",
      "Epoch 2/50\n",
      "43646/43646 [==============================] - 2s 54us/step - loss: 0.5229 - acc: 0.7703\n",
      "Epoch 3/50\n",
      "43646/43646 [==============================] - 2s 53us/step - loss: 0.4718 - acc: 0.8421\n",
      "Epoch 4/50\n",
      "43646/43646 [==============================] - 2s 54us/step - loss: 0.4397 - acc: 0.8548\n",
      "Epoch 5/50\n",
      "43646/43646 [==============================] - 2s 55us/step - loss: 0.4138 - acc: 0.8603\n",
      "Epoch 6/50\n",
      "43646/43646 [==============================] - 2s 53us/step - loss: 0.3911 - acc: 0.8643\n",
      "Epoch 7/50\n",
      "43646/43646 [==============================] - 2s 52us/step - loss: 0.3717 - acc: 0.8660\n",
      "Epoch 8/50\n",
      "43646/43646 [==============================] - 2s 53us/step - loss: 0.3569 - acc: 0.8684\n",
      "Epoch 9/50\n",
      "43646/43646 [==============================] - 2s 53us/step - loss: 0.3455 - acc: 0.8699\n",
      "Epoch 10/50\n",
      "43646/43646 [==============================] - 2s 53us/step - loss: 0.3368 - acc: 0.8718\n",
      "Epoch 11/50\n",
      "43646/43646 [==============================] - 2s 52us/step - loss: 0.3300 - acc: 0.8727\n",
      "Epoch 12/50\n",
      "43646/43646 [==============================] - 2s 52us/step - loss: 0.3247 - acc: 0.8735\n",
      "Epoch 13/50\n",
      "43646/43646 [==============================] - 2s 53us/step - loss: 0.3200 - acc: 0.8746\n",
      "Epoch 14/50\n",
      "43646/43646 [==============================] - 2s 54us/step - loss: 0.3166 - acc: 0.8750\n",
      "Epoch 15/50\n",
      "43646/43646 [==============================] - 2s 55us/step - loss: 0.3136 - acc: 0.8755\n",
      "Epoch 16/50\n",
      "43646/43646 [==============================] - 2s 54us/step - loss: 0.3110 - acc: 0.8754\n",
      "Epoch 17/50\n",
      "43646/43646 [==============================] - 2s 52us/step - loss: 0.3088 - acc: 0.8764\n",
      "Epoch 18/50\n",
      "43646/43646 [==============================] - 2s 55us/step - loss: 0.3066 - acc: 0.8763\n",
      "Epoch 19/50\n",
      "43646/43646 [==============================] - 2s 54us/step - loss: 0.3047 - acc: 0.8773\n",
      "Epoch 20/50\n",
      "43646/43646 [==============================] - 2s 53us/step - loss: 0.3032 - acc: 0.8779\n",
      "Epoch 21/50\n",
      "43646/43646 [==============================] - 2s 53us/step - loss: 0.3016 - acc: 0.8778\n",
      "Epoch 22/50\n",
      "43646/43646 [==============================] - 2s 54us/step - loss: 0.3003 - acc: 0.8786\n",
      "Epoch 23/50\n",
      "43646/43646 [==============================] - 2s 54us/step - loss: 0.2989 - acc: 0.8791\n",
      "Epoch 24/50\n",
      "43646/43646 [==============================] - 2s 53us/step - loss: 0.2980 - acc: 0.8799\n",
      "Epoch 25/50\n",
      "43646/43646 [==============================] - 2s 53us/step - loss: 0.2967 - acc: 0.8796\n",
      "Epoch 26/50\n",
      "43646/43646 [==============================] - 2s 56us/step - loss: 0.2959 - acc: 0.8801\n",
      "Epoch 27/50\n",
      "43646/43646 [==============================] - 3s 65us/step - loss: 0.2951 - acc: 0.8802\n",
      "Epoch 28/50\n",
      "43646/43646 [==============================] - 3s 70us/step - loss: 0.2944 - acc: 0.8804\n",
      "Epoch 29/50\n",
      "43646/43646 [==============================] - 2s 55us/step - loss: 0.2940 - acc: 0.8810\n",
      "Epoch 30/50\n",
      "43646/43646 [==============================] - 2s 55us/step - loss: 0.2934 - acc: 0.8807\n",
      "Epoch 31/50\n",
      "43646/43646 [==============================] - 3s 62us/step - loss: 0.2931 - acc: 0.8805\n",
      "Epoch 32/50\n",
      "43646/43646 [==============================] - 3s 58us/step - loss: 0.2925 - acc: 0.8808\n",
      "Epoch 33/50\n",
      "43646/43646 [==============================] - 3s 62us/step - loss: 0.2920 - acc: 0.8807\n",
      "Epoch 34/50\n",
      "43646/43646 [==============================] - 3s 59us/step - loss: 0.2916 - acc: 0.8810\n",
      "Epoch 35/50\n",
      "43646/43646 [==============================] - 3s 60us/step - loss: 0.2910 - acc: 0.8810: 1s - loss: 0\n",
      "Epoch 36/50\n",
      "43646/43646 [==============================] - 2s 57us/step - loss: 0.2907 - acc: 0.8814\n",
      "Epoch 37/50\n",
      "43646/43646 [==============================] - 3s 61us/step - loss: 0.2903 - acc: 0.8812\n",
      "Epoch 38/50\n",
      "43646/43646 [==============================] - 3s 59us/step - loss: 0.2899 - acc: 0.8810\n",
      "Epoch 39/50\n",
      "43646/43646 [==============================] - 2s 57us/step - loss: 0.2896 - acc: 0.8814: 1s - lo\n",
      "Epoch 40/50\n",
      "43646/43646 [==============================] - 2s 57us/step - loss: 0.2893 - acc: 0.8812\n",
      "Epoch 41/50\n",
      "43646/43646 [==============================] - 3s 79us/step - loss: 0.2891 - acc: 0.8810\n",
      "Epoch 42/50\n",
      "43646/43646 [==============================] - 3s 70us/step - loss: 0.2890 - acc: 0.8814\n",
      "Epoch 43/50\n",
      "43646/43646 [==============================] - 3s 65us/step - loss: 0.2888 - acc: 0.8813\n",
      "Epoch 44/50\n",
      "43646/43646 [==============================] - 3s 63us/step - loss: 0.2884 - acc: 0.8812\n",
      "Epoch 45/50\n",
      "43646/43646 [==============================] - 3s 61us/step - loss: 0.2883 - acc: 0.8818\n",
      "Epoch 46/50\n",
      "43646/43646 [==============================] - 3s 58us/step - loss: 0.2882 - acc: 0.8817\n",
      "Epoch 47/50\n",
      "43646/43646 [==============================] - 3s 62us/step - loss: 0.2882 - acc: 0.8812\n",
      "Epoch 48/50\n",
      "43646/43646 [==============================] - 4s 90us/step - loss: 0.2882 - acc: 0.8815: 1s\n",
      "Epoch 49/50\n",
      "43646/43646 [==============================] - 4s 100us/step - loss: 0.2878 - acc: 0.8815\n",
      "Epoch 50/50\n",
      "43646/43646 [==============================] - 3s 70us/step - loss: 0.2878 - acc: 0.8820\n",
      "[[0.4596303 ]\n",
      " [0.13054661]\n",
      " [0.10595818]\n",
      " ...\n",
      " [0.9998016 ]\n",
      " [0.99978524]\n",
      " [0.09003381]]\n",
      "11074/11074 [==============================] - 0s 36us/step\n",
      "0.29924903982530027 0.8719523207513094\n"
     ]
    }
   ],
   "source": [
    "model.fit(x_train, y_train, epochs=50)\n",
    "classifications = model.predict(x_test)\n",
    "print(classifications)\n",
    "test_loss, test_acc = model.evaluate(x_test, y_test)\n",
    "print(test_loss, test_acc)"
   ]
  },
  {
   "cell_type": "code",
   "execution_count": 31,
   "metadata": {},
   "outputs": [],
   "source": [
    "# predict probabilities for test set\n",
    "y_predict_probs = model.predict(x_test, verbose=0)\n",
    "# predict crisp classes for test set\n",
    "y_predict_classes = model.predict_classes(x_test, verbose=0)"
   ]
  },
  {
   "cell_type": "code",
   "execution_count": 32,
   "metadata": {},
   "outputs": [],
   "source": [
    "#np.set_printoptions(threshold=np.inf)\n",
    "from sklearn.metrics import accuracy_score\n",
    "from sklearn.metrics import precision_score\n",
    "from sklearn.metrics import recall_score\n",
    "from sklearn.metrics import f1_score\n",
    "from sklearn.metrics import cohen_kappa_score\n",
    "from sklearn.metrics import roc_auc_score\n",
    "from sklearn.metrics import confusion_matrix"
   ]
  },
  {
   "cell_type": "code",
   "execution_count": 33,
   "metadata": {},
   "outputs": [
    {
     "name": "stdout",
     "output_type": "stream",
     "text": [
      "[0.4596303  0.13054661 0.10595818 ... 0.9998016  0.99978524 0.09003381]\n",
      "[0 0 0 ... 1 1 0]\n",
      "Accuracy: 0.871952\n",
      "Precision: 0.864528\n",
      "Recall: 0.683881\n",
      "F1 score: 0.763667\n",
      "Cohens kappa: 0.677485\n",
      "ROC AUC: 0.915492\n",
      "Confusion_matrix:\n",
      "                    TrueP FalseN\n",
      "                    FalseP TrueN\n",
      "[[2291 1059]\n",
      " [ 359 7365]]\n"
     ]
    }
   ],
   "source": [
    "# reduce to 1d array\n",
    "y_probs = y_predict_probs[:, 0]\n",
    "y_classes = y_predict_classes[:, 0]\n",
    "print(y_probs)\n",
    "print(y_classes)\n",
    "# accuracy: (tp + tn) / (p + n)\n",
    "accuracy = accuracy_score(y_test, y_classes)\n",
    "print('Accuracy: %f' % accuracy)\n",
    "# precision tp / (tp + fp)\n",
    "precision = precision_score(y_test, y_classes)\n",
    "print('Precision: %f' % precision)\n",
    "# recall: tp / (tp + fn)\n",
    "recall = recall_score(y_test, y_classes)\n",
    "print('Recall: %f' % recall)\n",
    "# f1: 2 tp / (2 tp + fp + fn)\n",
    "f1 = f1_score(y_test, y_classes)\n",
    "print('F1 score: %f' % f1)\n",
    "# kappa\n",
    "kappa = cohen_kappa_score(y_test, y_classes)\n",
    "print('Cohens kappa: %f' % kappa)\n",
    "# ROC AUC\n",
    "auc = roc_auc_score(y_test, y_probs)\n",
    "print('ROC AUC: %f' % auc)\n",
    "# confusion matrix\n",
    "print('Confusion_matrix:')\n",
    "print('                    TrueP FalseN')\n",
    "print('                    FalseP TrueN')\n",
    "#labels must be specified as [1,0]. Without it, confusion_matrix\n",
    "#will report negative on the 1st row then positives on the 2nd row\n",
    "#note: predictions are in columns and actual values in rows !!\n",
    "matrix = confusion_matrix(y_test, y_classes, labels=[1, 0])\n",
    "print(matrix)"
   ]
  },
  {
   "cell_type": "code",
   "execution_count": 34,
   "metadata": {
    "scrolled": true
   },
   "outputs": [
    {
     "data": {
      "image/png": "[encoded data removed]",
      "text/plain": [
       "<Figure size 432x288 with 1 Axes>"
      ]
     },
     "metadata": {
      "needs_background": "light"
     },
     "output_type": "display_data"
    }
   ],
   "source": [
    "import sklearn.metrics as metrics\n",
    "fpr, tpr, threshold = metrics.roc_curve(y_test, y_probs)\n",
    "roc_auc = metrics.auc(fpr, tpr)\n",
    "# plot ROC\n",
    "import matplotlib.pyplot as plt\n",
    "plt.title('Receiver Operating Characteristic')\n",
    "plt.plot(fpr, tpr, 'm', label = 'AUC = %0.2f' % roc_auc)\n",
    "plt.legend(loc = 'lower right')\n",
    "plt.plot([0, 1], [0, 1],'b--')\n",
    "plt.ylabel('True Positive Rate')\n",
    "plt.xlabel('False Positive Rate')\n",
    "plt.show()\n"
   ]
  },
  {
   "cell_type": "code",
   "execution_count": null,
   "metadata": {},
   "outputs": [],
   "source": []
  }
 ],
 "metadata": {
  "kernelspec": {
   "display_name": "Python 3",
   "language": "python",
   "name": "python3"
  },
  "language_info": {
   "codemirror_mode": {
    "name": "ipython",
    "version": 3
   },
   "file_extension": ".py",
   "mimetype": "text/x-python",
   "name": "python",
   "nbconvert_exporter": "python",
   "pygments_lexer": "ipython3",
   "version": "3.6.10"
  }
 },
 "nbformat": 4,
 "nbformat_minor": 2
}
